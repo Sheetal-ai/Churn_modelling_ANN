{
  "nbformat": 4,
  "nbformat_minor": 0,
  "metadata": {
    "colab": {
      "name": "Horse_imagedatagenerator.ipynb",
      "provenance": [],
      "mount_file_id": "14dx0ZMFran76upghEgkA4Vq_8QkNbTV-",
      "authorship_tag": "ABX9TyMhl4aAYwdbfOileWY7BnUS",
      "include_colab_link": true
    },
    "kernelspec": {
      "name": "python3",
      "display_name": "Python 3"
    },
    "language_info": {
      "name": "python"
    },
    "accelerator": "GPU"
  },
  "cells": [
    {
      "cell_type": "markdown",
      "metadata": {
        "id": "view-in-github",
        "colab_type": "text"
      },
      "source": [
        "<a href=\"https://colab.research.google.com/github/Sheetal-ai/Churn_modelling_ANN/blob/main/Horse_imagedatagenerator.ipynb\" target=\"_parent\"><img src=\"https://colab.research.google.com/assets/colab-badge.svg\" alt=\"Open In Colab\"/></a>"
      ]
    },
    {
      "cell_type": "code",
      "metadata": {
        "id": "xwu4Nfk8hfbQ"
      },
      "source": [
        "from tensorflow import keras\n",
        "from keras.preprocessing.image import ImageDataGenerator,img_to_array,load_img"
      ],
      "execution_count": 3,
      "outputs": []
    },
    {
      "cell_type": "code",
      "metadata": {
        "colab": {
          "base_uri": "https://localhost:8080/"
        },
        "id": "Z0fE4qEcmrZj",
        "outputId": "a9b58af9-1938-49e4-ffbc-329521478435"
      },
      "source": [
        "datagen = ImageDataGenerator(rotation_range=40,\n",
        "                             width_shift_range=0.2,\n",
        "                             height_shift_range=0.2,\n",
        "                             zoom_range=0.2,\n",
        "                             shear_range = 0.2,\n",
        "                             horizontal_flip= True)\n",
        "img = load_img('/Brown-Horse-Images-1024x682.png')\n",
        "x= img_to_array(img)\n",
        "print(x.shape)\n",
        "x = x.reshape((1,)+ x.shape)\n",
        "x.shape"
      ],
      "execution_count": 13,
      "outputs": [
        {
          "output_type": "stream",
          "text": [
            "(682, 1024, 3)\n"
          ],
          "name": "stdout"
        },
        {
          "output_type": "execute_result",
          "data": {
            "text/plain": [
              "(1, 682, 1024, 3)"
            ]
          },
          "metadata": {
            "tags": []
          },
          "execution_count": 13
        }
      ]
    },
    {
      "cell_type": "code",
      "metadata": {
        "id": "ktchWkMZqe4m"
      },
      "source": [
        "i = 0\n",
        "for batch in datagen.flow(x,batch_size=1,save_to_dir='/home/preview',save_prefix='horse'):\n",
        "  i+= 1\n",
        "  if i >15:\n",
        "    break"
      ],
      "execution_count": 20,
      "outputs": []
    }
  ]
}