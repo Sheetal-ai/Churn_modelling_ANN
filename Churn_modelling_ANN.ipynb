{
  "nbformat": 4,
  "nbformat_minor": 0,
  "metadata": {
    "colab": {
      "name": "Churn_modelling_ANN",
      "provenance": [],
      "collapsed_sections": [],
      "authorship_tag": "ABX9TyN7Mu8U0BPKu4e5G9JHPLSJ",
      "include_colab_link": true
    },
    "kernelspec": {
      "name": "python3",
      "display_name": "Python 3"
    },
    "language_info": {
      "name": "python"
    },
    "accelerator": "GPU"
  },
  "cells": [
    {
      "cell_type": "markdown",
      "metadata": {
        "id": "view-in-github",
        "colab_type": "text"
      },
      "source": [
        "<a href=\"https://colab.research.google.com/github/Sheetal-ai/Churn_modelling_ANN/blob/main/Churn_modelling_ANN.ipynb\" target=\"_parent\"><img src=\"https://colab.research.google.com/assets/colab-badge.svg\" alt=\"Open In Colab\"/></a>"
      ]
    },
    {
      "cell_type": "code",
      "metadata": {
        "id": "9fyy2c2pw0cC"
      },
      "source": [
        "import pandas as pd\n",
        "import numpy as np\n",
        "from sklearn.model_selection import train_test_split\n",
        "from sklearn.preprocessing import StandardScaler\n",
        "url = 'https://raw.githubusercontent.com/krishnaik06/Complete-Deep-Learning/master/ANN/Churn_Modelling.csv'\n",
        "df = pd.read_csv(url)\n",
        "\n",
        "X = df.iloc[:,3:13]\n",
        "Y = df.iloc[:,13]\n",
        "\n",
        "gender = pd.get_dummies(X['Gender'])\n",
        "geography = pd.get_dummies(X['Geography'])\n",
        "\n",
        "X = pd.concat([X,gender,geography],axis = 1)\n",
        "X = X.drop(['Geography','Gender'],axis = 1)\n",
        "\n",
        "X_train,X_test,y_train,y_test = train_test_split(X,Y,test_size = 0.2,random_state = 101)\n",
        "\n",
        "sc = StandardScaler()\n",
        "X_train = sc.fit_transform(X_train)\n",
        "X_test  = sc.transform(X_test)"
      ],
      "execution_count": 2,
      "outputs": []
    },
    {
      "cell_type": "code",
      "metadata": {
        "id": "oB5-9M_JAbrS"
      },
      "source": [
        "import keras\n",
        "\n",
        "from keras.models import Sequential\n",
        "from keras.layers import  Dense,ReLU\n",
        "from keras.layers import Dropout\n"
      ],
      "execution_count": 27,
      "outputs": []
    },
    {
      "cell_type": "code",
      "metadata": {
        "colab": {
          "base_uri": "https://localhost:8080/"
        },
        "id": "zbt5B6PfCuNN",
        "outputId": "9fc0ba5b-1bd8-4d83-f129-59e3325a13a5"
      },
      "source": [
        "X_train.shape"
      ],
      "execution_count": 13,
      "outputs": [
        {
          "output_type": "execute_result",
          "data": {
            "text/plain": [
              "(8000, 13)"
            ]
          },
          "metadata": {
            "tags": []
          },
          "execution_count": 13
        }
      ]
    },
    {
      "cell_type": "code",
      "metadata": {
        "id": "hgIrjP8aAhgE"
      },
      "source": [
        "classifier = Sequential()\n",
        "classifier.add(Dense(units = 128,activation = 'relu',kernel_initializer='he_uniform',input_dim =13 ))\n",
        "classifier.add(Dropout(0.4))\n",
        "classifier.add(Dense(units = 64,activation = 'sigmoid'))\n",
        "classifier.add(Dropout(0.3))\n",
        "classifier.add(Dense(units = 32,activation = 'relu',kernel_initializer='he_uniform'))\n",
        "classifier.add(Dropout(0.6))\n",
        "classifier.add(Dense(units = 12,activation = 'sigmoid'))\n",
        "classifier.add(Dropout(0.2))\n",
        "classifier.add(Dense(units=1,activation='sigmoid'))\n"
      ],
      "execution_count": 28,
      "outputs": []
    },
    {
      "cell_type": "code",
      "metadata": {
        "colab": {
          "base_uri": "https://localhost:8080/"
        },
        "id": "6nQOIDbDBWF7",
        "outputId": "aad130a9-fa48-411f-c92f-f2930ec80fb7"
      },
      "source": [
        "classifier.summary()"
      ],
      "execution_count": 29,
      "outputs": [
        {
          "output_type": "stream",
          "text": [
            "Model: \"sequential_8\"\n",
            "_________________________________________________________________\n",
            "Layer (type)                 Output Shape              Param #   \n",
            "=================================================================\n",
            "dense_13 (Dense)             (None, 128)               1792      \n",
            "_________________________________________________________________\n",
            "dropout (Dropout)            (None, 128)               0         \n",
            "_________________________________________________________________\n",
            "dense_14 (Dense)             (None, 64)                8256      \n",
            "_________________________________________________________________\n",
            "dropout_1 (Dropout)          (None, 64)                0         \n",
            "_________________________________________________________________\n",
            "dense_15 (Dense)             (None, 32)                2080      \n",
            "_________________________________________________________________\n",
            "dropout_2 (Dropout)          (None, 32)                0         \n",
            "_________________________________________________________________\n",
            "dense_16 (Dense)             (None, 12)                396       \n",
            "_________________________________________________________________\n",
            "dropout_3 (Dropout)          (None, 12)                0         \n",
            "_________________________________________________________________\n",
            "dense_17 (Dense)             (None, 1)                 13        \n",
            "=================================================================\n",
            "Total params: 12,537\n",
            "Trainable params: 12,537\n",
            "Non-trainable params: 0\n",
            "_________________________________________________________________\n"
          ],
          "name": "stdout"
        }
      ]
    },
    {
      "cell_type": "code",
      "metadata": {
        "id": "OfocE68lD8_A"
      },
      "source": [
        "classifier.compile(optimizer='adam',loss='binary_crossentropy',metrics =['accuracy'])"
      ],
      "execution_count": 30,
      "outputs": []
    },
    {
      "cell_type": "code",
      "metadata": {
        "colab": {
          "base_uri": "https://localhost:8080/"
        },
        "id": "AeHsEyViEgqc",
        "outputId": "eccb160e-aceb-4bc3-ddce-00ffd163ff6c"
      },
      "source": [
        "histroy = classifier.fit(X_train,y_train,batch_size=10,epochs=50,verbose=1,validation_split=0.33)"
      ],
      "execution_count": 31,
      "outputs": [
        {
          "output_type": "stream",
          "text": [
            "Epoch 1/50\n",
            "536/536 [==============================] - 2s 3ms/step - loss: 0.5377 - accuracy: 0.7705 - val_loss: 0.4343 - val_accuracy: 0.7982\n",
            "Epoch 2/50\n",
            "536/536 [==============================] - 2s 3ms/step - loss: 0.4623 - accuracy: 0.8025 - val_loss: 0.4186 - val_accuracy: 0.8095\n",
            "Epoch 3/50\n",
            "536/536 [==============================] - 2s 3ms/step - loss: 0.4442 - accuracy: 0.7950 - val_loss: 0.4135 - val_accuracy: 0.8186\n",
            "Epoch 4/50\n",
            "536/536 [==============================] - 2s 3ms/step - loss: 0.4388 - accuracy: 0.8066 - val_loss: 0.4018 - val_accuracy: 0.8243\n",
            "Epoch 5/50\n",
            "536/536 [==============================] - 2s 3ms/step - loss: 0.4306 - accuracy: 0.8099 - val_loss: 0.3929 - val_accuracy: 0.8372\n",
            "Epoch 6/50\n",
            "536/536 [==============================] - 2s 3ms/step - loss: 0.4306 - accuracy: 0.8056 - val_loss: 0.3876 - val_accuracy: 0.8383\n",
            "Epoch 7/50\n",
            "536/536 [==============================] - 2s 3ms/step - loss: 0.4132 - accuracy: 0.8216 - val_loss: 0.3796 - val_accuracy: 0.8451\n",
            "Epoch 8/50\n",
            "536/536 [==============================] - 2s 3ms/step - loss: 0.4040 - accuracy: 0.8280 - val_loss: 0.3715 - val_accuracy: 0.8466\n",
            "Epoch 9/50\n",
            "536/536 [==============================] - 2s 3ms/step - loss: 0.4118 - accuracy: 0.8234 - val_loss: 0.3656 - val_accuracy: 0.8516\n",
            "Epoch 10/50\n",
            "536/536 [==============================] - 2s 3ms/step - loss: 0.3986 - accuracy: 0.8335 - val_loss: 0.3660 - val_accuracy: 0.8527\n",
            "Epoch 11/50\n",
            "536/536 [==============================] - 2s 3ms/step - loss: 0.3915 - accuracy: 0.8450 - val_loss: 0.3579 - val_accuracy: 0.8523\n",
            "Epoch 12/50\n",
            "536/536 [==============================] - 2s 3ms/step - loss: 0.3681 - accuracy: 0.8477 - val_loss: 0.3590 - val_accuracy: 0.8569\n",
            "Epoch 13/50\n",
            "536/536 [==============================] - 2s 3ms/step - loss: 0.3878 - accuracy: 0.8317 - val_loss: 0.3630 - val_accuracy: 0.8489\n",
            "Epoch 14/50\n",
            "536/536 [==============================] - 2s 3ms/step - loss: 0.3901 - accuracy: 0.8407 - val_loss: 0.3585 - val_accuracy: 0.8542\n",
            "Epoch 15/50\n",
            "536/536 [==============================] - 2s 3ms/step - loss: 0.3704 - accuracy: 0.8522 - val_loss: 0.3553 - val_accuracy: 0.8535\n",
            "Epoch 16/50\n",
            "536/536 [==============================] - 2s 3ms/step - loss: 0.3857 - accuracy: 0.8464 - val_loss: 0.3594 - val_accuracy: 0.8497\n",
            "Epoch 17/50\n",
            "536/536 [==============================] - 2s 3ms/step - loss: 0.3471 - accuracy: 0.8633 - val_loss: 0.3564 - val_accuracy: 0.8508\n",
            "Epoch 18/50\n",
            "536/536 [==============================] - 2s 3ms/step - loss: 0.3680 - accuracy: 0.8531 - val_loss: 0.3539 - val_accuracy: 0.8554\n",
            "Epoch 19/50\n",
            "536/536 [==============================] - 2s 3ms/step - loss: 0.3709 - accuracy: 0.8466 - val_loss: 0.3573 - val_accuracy: 0.8531\n",
            "Epoch 20/50\n",
            "536/536 [==============================] - 2s 3ms/step - loss: 0.3600 - accuracy: 0.8539 - val_loss: 0.3553 - val_accuracy: 0.8527\n",
            "Epoch 21/50\n",
            "536/536 [==============================] - 2s 3ms/step - loss: 0.3724 - accuracy: 0.8509 - val_loss: 0.3583 - val_accuracy: 0.8474\n",
            "Epoch 22/50\n",
            "536/536 [==============================] - 2s 3ms/step - loss: 0.3628 - accuracy: 0.8469 - val_loss: 0.3569 - val_accuracy: 0.8535\n",
            "Epoch 23/50\n",
            "536/536 [==============================] - 2s 3ms/step - loss: 0.3590 - accuracy: 0.8510 - val_loss: 0.3559 - val_accuracy: 0.8576\n",
            "Epoch 24/50\n",
            "536/536 [==============================] - 2s 3ms/step - loss: 0.3524 - accuracy: 0.8576 - val_loss: 0.3579 - val_accuracy: 0.8538\n",
            "Epoch 25/50\n",
            "536/536 [==============================] - 2s 3ms/step - loss: 0.3558 - accuracy: 0.8605 - val_loss: 0.3570 - val_accuracy: 0.8538\n",
            "Epoch 26/50\n",
            "536/536 [==============================] - 2s 3ms/step - loss: 0.3684 - accuracy: 0.8513 - val_loss: 0.3627 - val_accuracy: 0.8516\n",
            "Epoch 27/50\n",
            "536/536 [==============================] - 2s 3ms/step - loss: 0.3699 - accuracy: 0.8523 - val_loss: 0.3584 - val_accuracy: 0.8542\n",
            "Epoch 28/50\n",
            "536/536 [==============================] - 2s 3ms/step - loss: 0.3798 - accuracy: 0.8444 - val_loss: 0.3572 - val_accuracy: 0.8561\n",
            "Epoch 29/50\n",
            "536/536 [==============================] - 2s 3ms/step - loss: 0.3521 - accuracy: 0.8531 - val_loss: 0.3545 - val_accuracy: 0.8527\n",
            "Epoch 30/50\n",
            "536/536 [==============================] - 2s 3ms/step - loss: 0.3390 - accuracy: 0.8684 - val_loss: 0.3563 - val_accuracy: 0.8546\n",
            "Epoch 31/50\n",
            "536/536 [==============================] - 2s 3ms/step - loss: 0.3587 - accuracy: 0.8530 - val_loss: 0.3561 - val_accuracy: 0.8538\n",
            "Epoch 32/50\n",
            "536/536 [==============================] - 2s 3ms/step - loss: 0.3659 - accuracy: 0.8535 - val_loss: 0.3559 - val_accuracy: 0.8546\n",
            "Epoch 33/50\n",
            "536/536 [==============================] - 2s 3ms/step - loss: 0.3569 - accuracy: 0.8622 - val_loss: 0.3591 - val_accuracy: 0.8516\n",
            "Epoch 34/50\n",
            "536/536 [==============================] - 2s 3ms/step - loss: 0.3468 - accuracy: 0.8625 - val_loss: 0.3592 - val_accuracy: 0.8512\n",
            "Epoch 35/50\n",
            "536/536 [==============================] - 2s 3ms/step - loss: 0.3424 - accuracy: 0.8665 - val_loss: 0.3585 - val_accuracy: 0.8546\n",
            "Epoch 36/50\n",
            "536/536 [==============================] - 2s 3ms/step - loss: 0.3505 - accuracy: 0.8603 - val_loss: 0.3601 - val_accuracy: 0.8512\n",
            "Epoch 37/50\n",
            "536/536 [==============================] - 2s 3ms/step - loss: 0.3581 - accuracy: 0.8609 - val_loss: 0.3546 - val_accuracy: 0.8584\n",
            "Epoch 38/50\n",
            "536/536 [==============================] - 2s 3ms/step - loss: 0.3529 - accuracy: 0.8652 - val_loss: 0.3533 - val_accuracy: 0.8561\n",
            "Epoch 39/50\n",
            "536/536 [==============================] - 2s 3ms/step - loss: 0.3418 - accuracy: 0.8611 - val_loss: 0.3581 - val_accuracy: 0.8504\n",
            "Epoch 40/50\n",
            "536/536 [==============================] - 2s 3ms/step - loss: 0.3446 - accuracy: 0.8653 - val_loss: 0.3572 - val_accuracy: 0.8546\n",
            "Epoch 41/50\n",
            "536/536 [==============================] - 2s 3ms/step - loss: 0.3487 - accuracy: 0.8613 - val_loss: 0.3574 - val_accuracy: 0.8546\n",
            "Epoch 42/50\n",
            "536/536 [==============================] - 2s 3ms/step - loss: 0.3432 - accuracy: 0.8653 - val_loss: 0.3553 - val_accuracy: 0.8527\n",
            "Epoch 43/50\n",
            "536/536 [==============================] - 2s 3ms/step - loss: 0.3621 - accuracy: 0.8587 - val_loss: 0.3578 - val_accuracy: 0.8538\n",
            "Epoch 44/50\n",
            "536/536 [==============================] - 2s 3ms/step - loss: 0.3411 - accuracy: 0.8615 - val_loss: 0.3549 - val_accuracy: 0.8557\n",
            "Epoch 45/50\n",
            "536/536 [==============================] - 2s 3ms/step - loss: 0.3495 - accuracy: 0.8575 - val_loss: 0.3539 - val_accuracy: 0.8531\n",
            "Epoch 46/50\n",
            "536/536 [==============================] - 2s 3ms/step - loss: 0.3427 - accuracy: 0.8687 - val_loss: 0.3552 - val_accuracy: 0.8535\n",
            "Epoch 47/50\n",
            "536/536 [==============================] - 2s 3ms/step - loss: 0.3509 - accuracy: 0.8602 - val_loss: 0.3564 - val_accuracy: 0.8527\n",
            "Epoch 48/50\n",
            "536/536 [==============================] - 2s 3ms/step - loss: 0.3486 - accuracy: 0.8642 - val_loss: 0.3571 - val_accuracy: 0.8557\n",
            "Epoch 49/50\n",
            "536/536 [==============================] - 2s 3ms/step - loss: 0.3274 - accuracy: 0.8704 - val_loss: 0.3554 - val_accuracy: 0.8542\n",
            "Epoch 50/50\n",
            "536/536 [==============================] - 2s 3ms/step - loss: 0.3374 - accuracy: 0.8666 - val_loss: 0.3575 - val_accuracy: 0.8508\n"
          ],
          "name": "stdout"
        }
      ]
    },
    {
      "cell_type": "code",
      "metadata": {
        "id": "dWhPXbisE4FQ"
      },
      "source": [
        "y_pred = classifier.predict(X_test)\n",
        "y_pred = (y_pred > 0.5)"
      ],
      "execution_count": 32,
      "outputs": []
    },
    {
      "cell_type": "code",
      "metadata": {
        "id": "kuoPncRYFrAs"
      },
      "source": [
        "from sklearn.metrics import confusion_matrix,accuracy_score"
      ],
      "execution_count": 23,
      "outputs": []
    },
    {
      "cell_type": "code",
      "metadata": {
        "colab": {
          "base_uri": "https://localhost:8080/"
        },
        "id": "18T0ElpxGDZN",
        "outputId": "8e880aff-0f4a-409d-aa7a-2bc1bbc9d754"
      },
      "source": [
        "cm = confusion_matrix(y_test,y_pred)\n",
        "print(cm)"
      ],
      "execution_count": 33,
      "outputs": [
        {
          "output_type": "stream",
          "text": [
            "[[1508   69]\n",
            " [ 215  208]]\n"
          ],
          "name": "stdout"
        }
      ]
    },
    {
      "cell_type": "code",
      "metadata": {
        "colab": {
          "base_uri": "https://localhost:8080/"
        },
        "id": "r0JdDrWoGSea",
        "outputId": "9cad217e-0372-42ad-8e10-74f77629ad2e"
      },
      "source": [
        "print(accuracy_score(y_test,y_pred))"
      ],
      "execution_count": 34,
      "outputs": [
        {
          "output_type": "stream",
          "text": [
            "0.858\n"
          ],
          "name": "stdout"
        }
      ]
    },
    {
      "cell_type": "code",
      "metadata": {
        "id": "WFFAVBP5GWh1"
      },
      "source": [
        ""
      ],
      "execution_count": null,
      "outputs": []
    }
  ]
}